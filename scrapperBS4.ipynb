{
 "cells": [
  {
   "cell_type": "code",
   "execution_count": null,
   "metadata": {},
   "outputs": [],
   "source": [
    "#install if not already\n",
    "#!pip install beautifulsoup4"
   ]
  },
  {
   "cell_type": "code",
   "execution_count": null,
   "metadata": {},
   "outputs": [],
   "source": [
    "from urllib.request import urlopen\n",
    " \n",
    "from urllib.error import HTTPError\n",
    " \n",
    "from urllib.error import URLError\n",
    " \n",
    "from bs4 import BeautifulSoup\n",
    "import urllib\n",
    "import datetime as dt\n",
    "import pandas as pd"
   ]
  },
  {
   "cell_type": "markdown",
   "metadata": {},
   "source": [
    " ##  All teams in a dic"
   ]
  },
  {
   "cell_type": "code",
   "execution_count": null,
   "metadata": {},
   "outputs": [],
   "source": [
    "teamsDic = {\n",
    "    \"TelEOS\": {\"url\": \"https://www.youtube.com/watch?v=TSo13vorP8g\"},\n",
    "    \"YouRoot.io\": {\"url\": \"https://www.youtube.com/watch?v=fJJneJJgzwo\"},\n",
    "    \"Team Decentralize\": {\"url\": \"https://www.youtube.com/watch?v=-Mtxx3IEZLc\"},\n",
    "    \"CADChain\": {\"url\": \"https://www.youtube.com/watch?v=_aizBkuaXLM\"},\n",
    "    \"Way\": {\"url\": \"https://www.youtube.com/watch?v=65X7dlDjB3s\"},\n",
    "    \"Armada\": {\"url\": \"https://www.youtube.com/watch?v=enTh04mX5FQ\"},\n",
    "    \"CollectiveHealth\": {\"url\": \"https://www.youtube.com/watch?v=itZ4blsBIDU\"},\n",
    "    \"DAO Axis\": {\"url\": \"https://www.youtube.com/watch?v=-Mtxx3IEZLc\"},\n",
    "    \"This Coin Rocks\": {\"url\": \"https://www.youtube.com/watch?v=ZR1DdBL8QDE\"},\n",
    "    \"EOS-AGE-Project-DNA\": {\"url\": \"https://www.youtube.com/watch?v=ZFouTSVoeAQ\"},\n",
    "    \"FinCrowds\": {\"url\": \"https://youtu.be/IVIGjQkl0NQ\"},\n",
    "    \"VIM\": {\"url\": \"https://www.youtube.com/watch?v=enTh04mX5FQ\"},\n",
    "    \"Undra.io\": {\"url\": \"https://www.youtube.com/watch?v=cyL6khy7ipI\"},\n",
    "    \"codum\": {\"url\": \"https://www.youtube.com/watch?v=sdtqOXH5svg\"},\n",
    "    \"iRespo.com\": {\"url\": \"https://www.youtube.com/watch?v=NcZZgCa809U\"},\n",
    "    \"FairAccess\": {\"url\": \"https://www.youtube.com/watch?v=1M_JPKkHhK4\"},\n",
    "    \"Delegator\": {\"url\": \"https://www.youtube.com/watch?v=cyL6khy7ipI\"},\n",
    "    \"DelegationOne\": {\"url\": \"https://www.youtube.com/watch?v=8tXweZ9Y1qI\"},\n",
    "    \"Magni\": {\"url\": \"https://www.youtube.com/watch?v=HcjWpD2Eteg\"},\n",
    "    \"Query:\": {\"url\": \"https://www.youtube.com/watch?v=HcjWpD2Eteg\"},\n",
    "    \"Binary\": {\"url\": \"https://www.youtube.com/watch?v=itZ4blsBIDU\"},\n",
    "    \"SE5 Focus\": {\"url\": \"https://www.youtube.com/watch?v=nAqBqpMRK7E\"},\n",
    "    \"Ownit\": {\"url\": \"https://www.youtube.com/watch?v=ir6VlVnG8SI\"},\n",
    "    \"LoRaChain\": {\"url\": \"https://www.youtube.com/watch?v=p0QRzNIKgBs\"},\n",
    "    \"Screen Time\": {\"url\": \"https://www.youtube.com/watch?v=ZUEhi2LsFCs\"},\n",
    "    \"EOSomnia\": {\"url\": \"https://www.youtube.com/watch?v=8tXweZ9Y1qI\"},\n",
    "    \"Streamer.IO\": {\"url\": \"https://www.youtube.com/watch?v=nmZZzxQsIwU\"},\n",
    "    #\"AnyChain\": {\"url\": \"youku\"},\n",
    "    \"payment.one\": {\"url\": \"https://www.youtube.com/watch?v=2KG78PGE1yk\"}\n",
    "}"
   ]
  },
  {
   "cell_type": "markdown",
   "metadata": {},
   "source": [
    "#  MY CODE"
   ]
  },
  {
   "cell_type": "markdown",
   "metadata": {},
   "source": [
    "## Functions"
   ]
  },
  {
   "cell_type": "code",
   "execution_count": null,
   "metadata": {},
   "outputs": [],
   "source": [
    "def getLikes(url):\n",
    "    try:\n",
    "        #load website & parse with bs4\n",
    "        page = urllib.request.urlopen(url)\n",
    "        soup = BeautifulSoup(page,'html.parser')\n",
    "    except URLError as e:\n",
    "        print(e)\n",
    "        \n",
    "        # get likes (unclicked)\n",
    "    try:\n",
    "        likes = soup.find_all('button',class_='like-button-renderer-like-button-unclicked')\n",
    "        return likes[0].text  #TODO: transform to int (int(likes[0].text) )\n",
    "    except HTTPError as e:\n",
    "        print(e)\n",
    "        return '0'"
   ]
  },
  {
   "cell_type": "markdown",
   "metadata": {},
   "source": [
    "###  Get likes for all urls in teamsDic"
   ]
  },
  {
   "cell_type": "code",
   "execution_count": null,
   "metadata": {},
   "outputs": [],
   "source": [
    "def keepTally(teams):\n",
    "    for tm in teams:\n",
    "        # getLikes for team (tm) and add result to new key \"likes\"\n",
    "        teams[tm]['likes'] = getLikes(teams[tm]['url'])\n",
    "        print(tm, teams[tm]['likes'])\n",
    "    return tm, teams[tm]['likes']        \n"
   ]
  },
  {
   "cell_type": "code",
   "execution_count": 36,
   "metadata": {},
   "outputs": [],
   "source": [
    "def keepTally(teams):\n",
    "    output = {}\n",
    "    for tm in teams:\n",
    "        # getLikes for team (tm) and add result to new key \"likes\"\n",
    "        output[tm] = getLikes(teams[tm]['url'])\n",
    "#         print(tm, output[tm])\n",
    "    return output"
   ]
  },
  {
   "cell_type": "markdown",
   "metadata": {},
   "source": [
    "# Run the tally"
   ]
  },
  {
   "cell_type": "code",
   "execution_count": 37,
   "metadata": {
    "scrolled": true
   },
   "outputs": [
    {
     "name": "stdout",
     "output_type": "stream",
     "text": [
      "TelEOS 2,293\n",
      "YouRoot.io 3,121\n",
      "Team Decentralize 1,467\n",
      "CADChain 1,058\n",
      "Way 1,058\n",
      "Armada 2,643\n",
      "CollectiveHealth 5,390\n",
      "DAO Axis 1,467\n",
      "This Coin Rocks 1,491\n",
      "EOS-AGE-Project-DNA 251\n",
      "FinCrowds 883\n",
      "VIM 2,643\n",
      "Undra.io 1,077\n",
      "codum 389\n",
      "iRespo.com 1,135\n",
      "FairAccess 226\n",
      "Delegator 1,077\n",
      "DelegationOne 554\n",
      "Magni 112\n",
      "Query: 112\n",
      "Binary 5,395\n",
      "SE5 Focus 58\n",
      "Ownit 20\n",
      "LoRaChain 1,953\n",
      "Screen Time 10\n",
      "EOSomnia 554\n",
      "Streamer.IO 10\n",
      "payment.one \n"
     ]
    }
   ],
   "source": [
    "timeRun = dt.datetime.now().strftime(\"%Hhr%M\")\n",
    "output = keepTally(teamsDic)"
   ]
  },
  {
   "cell_type": "markdown",
   "metadata": {},
   "source": [
    "\n",
    "###  Create filename"
   ]
  },
  {
   "cell_type": "code",
   "execution_count": 34,
   "metadata": {},
   "outputs": [
    {
     "name": "stdout",
     "output_type": "stream",
     "text": [
      "Run_04hr26.txt\n"
     ]
    }
   ],
   "source": [
    "outputFileName = 'Run_'+timeRun+'.txt'\n",
    "print(outputFileName)"
   ]
  },
  {
   "cell_type": "markdown",
   "metadata": {},
   "source": [
    "### save to a file"
   ]
  },
  {
   "cell_type": "code",
   "execution_count": 40,
   "metadata": {},
   "outputs": [],
   "source": [
    "with open(outputFileName, \"w\") as text_file:\n",
    "    text_file.write(str(output))"
   ]
  },
  {
   "cell_type": "code",
   "execution_count": null,
   "metadata": {},
   "outputs": [],
   "source": [
    "# import csv\n",
    "# with open(outputFileName, 'wb') as csvfile:\n",
    "#     wr = csv.writer(csvfile, quoting=csv.QUOTE_ALL)\n",
    "#     wr.writerow(result)"
   ]
  },
  {
   "cell_type": "code",
   "execution_count": null,
   "metadata": {},
   "outputs": [],
   "source": [
    "import pandas as pd"
   ]
  },
  {
   "cell_type": "code",
   "execution_count": 39,
   "metadata": {},
   "outputs": [
    {
     "data": {
      "text/plain": [
       "{'Armada': '2,643',\n",
       " 'Binary': '5,395',\n",
       " 'CADChain': '1,058',\n",
       " 'CollectiveHealth': '5,390',\n",
       " 'DAO Axis': '1,467',\n",
       " 'DelegationOne': '554',\n",
       " 'Delegator': '1,077',\n",
       " 'EOS-AGE-Project-DNA': '251',\n",
       " 'EOSomnia': '554',\n",
       " 'FairAccess': '226',\n",
       " 'FinCrowds': '883',\n",
       " 'LoRaChain': '1,953',\n",
       " 'Magni': '112',\n",
       " 'Ownit': '20',\n",
       " 'Query:': '112',\n",
       " 'SE5 Focus': '58',\n",
       " 'Screen Time': '10',\n",
       " 'Streamer.IO': '10',\n",
       " 'Team Decentralize': '1,467',\n",
       " 'TelEOS': '2,293',\n",
       " 'This Coin Rocks': '1,491',\n",
       " 'Undra.io': '1,077',\n",
       " 'VIM': '2,643',\n",
       " 'Way': '1,058',\n",
       " 'YouRoot.io': '3,121',\n",
       " 'codum': '389',\n",
       " 'iRespo.com': '1,135',\n",
       " 'payment.one': ''}"
      ]
     },
     "execution_count": 39,
     "metadata": {},
     "output_type": "execute_result"
    }
   ],
   "source": [
    "output"
   ]
  },
  {
   "cell_type": "code",
   "execution_count": null,
   "metadata": {},
   "outputs": [],
   "source": []
  },
  {
   "cell_type": "code",
   "execution_count": null,
   "metadata": {},
   "outputs": [],
   "source": [
    "tally.to_csv(outputFileName, sep='\\t', encoding='utf-8'))"
   ]
  },
  {
   "cell_type": "code",
   "execution_count": null,
   "metadata": {},
   "outputs": [],
   "source": []
  },
  {
   "cell_type": "code",
   "execution_count": null,
   "metadata": {},
   "outputs": [],
   "source": []
  },
  {
   "cell_type": "code",
   "execution_count": null,
   "metadata": {},
   "outputs": [],
   "source": []
  },
  {
   "cell_type": "code",
   "execution_count": null,
   "metadata": {},
   "outputs": [],
   "source": []
  },
  {
   "cell_type": "markdown",
   "metadata": {},
   "source": [
    "#  ----- TESTS -----"
   ]
  },
  {
   "cell_type": "markdown",
   "metadata": {},
   "source": [
    "### Get like for single url"
   ]
  },
  {
   "cell_type": "code",
   "execution_count": null,
   "metadata": {},
   "outputs": [],
   "source": [
    "print(getLikes(\"https://www.youtube.com/watch?time_continue=14&v=hEQAMeaYCr8\"))"
   ]
  },
  {
   "cell_type": "markdown",
   "metadata": {},
   "source": [
    "###  Trial 1"
   ]
  },
  {
   "cell_type": "code",
   "execution_count": null,
   "metadata": {},
   "outputs": [],
   "source": [
    "try:\n",
    "    html = urlopen(\"https://www.youtube.com/watch?time_continue=14&v=hEQAMeaYCr8\")\n",
    "except HTTPError as e:\n",
    "    print(e)\n",
    "except URLError:\n",
    "    print(\"Server down or incorrect domain\")\n",
    "else:\n",
    "    res = BeautifulSoup(html.read(),\"html5lib\")\n",
    "    tags = res.findAll(\"h1\")\n",
    "    print(\"len: \",len(tags))\n",
    "    for tag in tags:\n",
    "        print(tag)\n",
    "        print(tag.getText())"
   ]
  },
  {
   "cell_type": "markdown",
   "metadata": {},
   "source": [
    "###  Trial 2"
   ]
  },
  {
   "cell_type": "code",
   "execution_count": null,
   "metadata": {
    "scrolled": true
   },
   "outputs": [],
   "source": [
    "url = \"https://www.youtube.com/watch?time_continue=14&v=hEQAMeaYCr8\"\n",
    "page = urllib.request.urlopen(url)\n",
    "soup = BeautifulSoup(page,'html.parser')\n",
    "\n",
    "print(soup.prettify())"
   ]
  },
  {
   "cell_type": "code",
   "execution_count": null,
   "metadata": {},
   "outputs": [],
   "source": [
    "try:\n",
    "#     a = soup.find_all(\"button\", )\n",
    "    a = soup.find_all('button',class_='like-button-renderer-like-button-unclicked')\n",
    "    print(\"len is : \", len(a))\n",
    "except HTTPError as e:\n",
    "    print(e)"
   ]
  },
  {
   "cell_type": "code",
   "execution_count": null,
   "metadata": {},
   "outputs": [],
   "source": [
    "for i in a:\n",
    "    print(i.text)"
   ]
  },
  {
   "cell_type": "code",
   "execution_count": null,
   "metadata": {},
   "outputs": [],
   "source": [
    "a[0].text"
   ]
  }
 ],
 "metadata": {
  "kernelspec": {
   "display_name": "Python 3",
   "language": "python",
   "name": "python3"
  },
  "language_info": {
   "codemirror_mode": {
    "name": "ipython",
    "version": 3
   },
   "file_extension": ".py",
   "mimetype": "text/x-python",
   "name": "python",
   "nbconvert_exporter": "python",
   "pygments_lexer": "ipython3",
   "version": "3.6.3"
  }
 },
 "nbformat": 4,
 "nbformat_minor": 2
}
