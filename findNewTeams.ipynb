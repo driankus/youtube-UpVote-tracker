{
 "cells": [
  {
   "cell_type": "code",
   "execution_count": null,
   "metadata": {},
   "outputs": [],
   "source": [
    "from urllib.request import urlopen\n",
    "from urllib.error import HTTPError\n",
    "from urllib.error import URLError\n",
    "from bs4 import BeautifulSoup\n",
    "import urllib\n",
    "import datetime as dt\n",
    "import pandas as pd"
   ]
  },
  {
   "cell_type": "markdown",
   "metadata": {},
   "source": [
    "## Functions"
   ]
  },
  {
   "cell_type": "code",
   "execution_count": 37,
   "metadata": {},
   "outputs": [],
   "source": [
    "def soupifyWeb(url):\n",
    "    # Takes url. Parces page and Returns allTeam's info (name and url to youtube)\n",
    "    try:\n",
    "        #load website & parse with bs4\n",
    "        page = urllib.request.urlopen(url)\n",
    "        soup = BeautifulSoup(page,'html.parser')\n",
    "    except URLError as e:\n",
    "        print(e)\n",
    "        \n",
    "    # get likes with unclicked tag\n",
    "    try:\n",
    "        print('finding all divs...')\n",
    "        soup = soup.find_all('div', class_=\"fl-post-column\")\n",
    "        print('All teams found = ', len(soup))\n",
    "        return soup\n",
    "    except HTTPError as e:\n",
    "        print(e)"
   ]
  },
  {
   "cell_type": "code",
   "execution_count": 36,
   "metadata": {},
   "outputs": [],
   "source": [
    "def extractInfo(aSoup):\n",
    "    teamInfo = []\n",
    "    for i in aSoup:\n",
    "        try:\n",
    "            youtubeUrl = i.find_all('iframe')[0].attrs['src']\n",
    "            #ignore youku urls \n",
    "            #TODO: remove this after figuring how to scrappe youku likes \n",
    "            if 'youku'in youtubeUrl:\n",
    "                pass\n",
    "            else:\n",
    "                youtubeUrl = youtubeUrl.replace('embed/', 'watch?v=') # Fix URL from \"embeded\"  to \"watch\"\n",
    "                teamName = i.find_all('h5', class_=\"uppercase post-team-name\")[0].text\n",
    "                teamInfo.append([teamName, youtubeUrl])\n",
    "        except:\n",
    "            print(\"no src or h5 found\")\n",
    "    print('Teams found (youtube Only) : ', len(teamInfo))\n",
    "    return teamInfo"
   ]
  },
  {
   "cell_type": "markdown",
   "metadata": {},
   "source": [
    "## Load and parce  eoshackathon.io"
   ]
  },
  {
   "cell_type": "code",
   "execution_count": 23,
   "metadata": {},
   "outputs": [
    {
     "name": "stdout",
     "output_type": "stream",
     "text": [
      "finding all divs...\n",
      "Soup len =  72\n"
     ]
    }
   ],
   "source": [
    "soup = soupifyWeb('https://eoshackathon.io/community-voting/#application')"
   ]
  },
  {
   "cell_type": "markdown",
   "metadata": {},
   "source": [
    "## Extract team names and youtube urls"
   ]
  },
  {
   "cell_type": "code",
   "execution_count": 35,
   "metadata": {},
   "outputs": [
    {
     "name": "stdout",
     "output_type": "stream",
     "text": [
      "Teams found :  69\n"
     ]
    }
   ],
   "source": [
    "teamsInfo = pd.DataFrame(extractInfo(soup))\n",
    "teamsInfo.columns = ['team','url']"
   ]
  },
  {
   "cell_type": "markdown",
   "metadata": {},
   "source": [
    "##  Save to csv"
   ]
  },
  {
   "cell_type": "code",
   "execution_count": 26,
   "metadata": {},
   "outputs": [],
   "source": [
    "teamsInfo.to_csv(\"teamsInfo.csv\", header=True, index=False)"
   ]
  },
  {
   "cell_type": "code",
   "execution_count": null,
   "metadata": {},
   "outputs": [],
   "source": []
  },
  {
   "cell_type": "code",
   "execution_count": null,
   "metadata": {},
   "outputs": [],
   "source": []
  },
  {
   "cell_type": "markdown",
   "metadata": {},
   "source": [
    "# ----------- ADD new teams directly to  tracker.csv -------------"
   ]
  },
  {
   "cell_type": "markdown",
   "metadata": {},
   "source": [
    "####  Load tracker"
   ]
  },
  {
   "cell_type": "code",
   "execution_count": 8,
   "metadata": {},
   "outputs": [],
   "source": [
    "tracker = pd.read_csv(\"videoLikesTracker.csv\")"
   ]
  },
  {
   "cell_type": "markdown",
   "metadata": {},
   "source": [
    "####  check teams on teamsInfo not existent in tracker"
   ]
  },
  {
   "cell_type": "code",
   "execution_count": 15,
   "metadata": {},
   "outputs": [],
   "source": [
    "newTeams = teamsInfo.loc[~teamsInfo['team'].isin(tracker['team'])]"
   ]
  },
  {
   "cell_type": "code",
   "execution_count": 16,
   "metadata": {},
   "outputs": [],
   "source": [
    "newTeams.to_csv(\"newTeams.csv\", header=True, index=False)"
   ]
  },
  {
   "cell_type": "code",
   "execution_count": null,
   "metadata": {},
   "outputs": [],
   "source": [
    "tracker = tracker.set_index('team')\n",
    "teamsInfo = teamsInfo.set_index('team')"
   ]
  },
  {
   "cell_type": "code",
   "execution_count": null,
   "metadata": {},
   "outputs": [],
   "source": [
    "len(teamsInfo)"
   ]
  },
  {
   "cell_type": "code",
   "execution_count": null,
   "metadata": {},
   "outputs": [],
   "source": [
    "len(tracker)"
   ]
  },
  {
   "cell_type": "code",
   "execution_count": null,
   "metadata": {},
   "outputs": [],
   "source": [
    "tracker.append(teamsInfo)\n"
   ]
  },
  {
   "cell_type": "code",
   "execution_count": null,
   "metadata": {},
   "outputs": [],
   "source": []
  },
  {
   "cell_type": "code",
   "execution_count": null,
   "metadata": {},
   "outputs": [],
   "source": []
  },
  {
   "cell_type": "code",
   "execution_count": null,
   "metadata": {},
   "outputs": [],
   "source": []
  },
  {
   "cell_type": "code",
   "execution_count": null,
   "metadata": {},
   "outputs": [],
   "source": []
  },
  {
   "cell_type": "markdown",
   "metadata": {},
   "source": [
    "#  Beautifullized html XD ------------"
   ]
  },
  {
   "cell_type": "code",
   "execution_count": null,
   "metadata": {},
   "outputs": [],
   "source": [
    "pg = urllib.request.urlopen('https://eoshackathon.io/community-voting/#application')\n",
    "sp = BeautifulSoup(pg,'html.parser')\n",
    "print(sp.prettify())"
   ]
  },
  {
   "cell_type": "code",
   "execution_count": null,
   "metadata": {},
   "outputs": [],
   "source": []
  },
  {
   "cell_type": "code",
   "execution_count": null,
   "metadata": {},
   "outputs": [],
   "source": []
  }
 ],
 "metadata": {
  "kernelspec": {
   "display_name": "Python 3",
   "language": "python",
   "name": "python3"
  },
  "language_info": {
   "codemirror_mode": {
    "name": "ipython",
    "version": 3
   },
   "file_extension": ".py",
   "mimetype": "text/x-python",
   "name": "python",
   "nbconvert_exporter": "python",
   "pygments_lexer": "ipython3",
   "version": "3.6.3"
  }
 },
 "nbformat": 4,
 "nbformat_minor": 2
}
