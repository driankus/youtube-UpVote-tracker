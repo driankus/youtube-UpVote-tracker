{
 "cells": [
  {
   "cell_type": "code",
   "execution_count": null,
   "metadata": {},
   "outputs": [],
   "source": [
    "#install if not already\n",
    "#!pip install beautifulsoup4"
   ]
  },
  {
   "cell_type": "code",
   "execution_count": 1,
   "metadata": {},
   "outputs": [],
   "source": [
    "from urllib.request import urlopen\n",
    "from urllib.error import HTTPError\n",
    "from urllib.error import URLError\n",
    "from bs4 import BeautifulSoup\n",
    "import urllib\n",
    "import datetime as dt\n",
    "import pandas as pd"
   ]
  },
  {
   "cell_type": "markdown",
   "metadata": {},
   "source": [
    "## Functions"
   ]
  },
  {
   "cell_type": "markdown",
   "metadata": {},
   "source": [
    "####  getLikes(url) -> Takes url. Loads page and extracts likes. Returns number of likes"
   ]
  },
  {
   "cell_type": "code",
   "execution_count": 29,
   "metadata": {},
   "outputs": [],
   "source": [
    "def getLikes(url):\n",
    "    # Takes url. Loads page and extracts likes. Returns number of likes\n",
    "    try:\n",
    "        #load website & parse with bs4\n",
    "#         print('Loading : ', url)\n",
    "        page = urllib.request.urlopen(url)\n",
    "        soup = BeautifulSoup(page,'html.parser')\n",
    "    except URLError as e:\n",
    "        print(e)\n",
    "        \n",
    "    # get likes with unclicked tag\n",
    "    try:\n",
    "        likes = soup.find_all('button',class_='like-button-renderer-like-button-unclicked')\n",
    "#         print('# likes found : ', likes[0].text)\n",
    "        numLikes = likes[0].text.replace(',', '') #remove thosand-comma Ex.1,300\n",
    "        return pd.to_numeric(numLikes)\n",
    "    except HTTPError as e:\n",
    "        print(e)\n",
    "        return '0'"
   ]
  },
  {
   "cell_type": "markdown",
   "metadata": {},
   "source": [
    "#### keepTally(df) - -> Create new column and getLikes and Save to CSV"
   ]
  },
  {
   "cell_type": "code",
   "execution_count": 30,
   "metadata": {},
   "outputs": [],
   "source": [
    "def keepTally(df):\n",
    "    # Takes a df (teamName, url). Returns df + new column (name = timeRun) with scrapped likes\n",
    "    \n",
    "    fieldName = dt.datetime.now().strftime(\"%y-%m-%d.%H:%M\")\n",
    "    print(\"New field: \", fieldName)\n",
    "    \n",
    "    # apply getLikes to df\n",
    "    df[fieldName] = df['url'].apply( lambda x : getLikes(x))\n",
    "    print(\"Getting likes: complete\")\n",
    "    \n",
    "    # sort by # votes from last scrape and save to csv\n",
    "    df = df.sort_values(by= fieldName, ascending=False)\n",
    "    df.to_csv(\"videoLikesTracker.csv\", header=True, index=False)\n",
    "    print(\"Save to csve fie 'videoLikesTracker.csv'\")\n",
    "    \n",
    "    return \"Tracker updated!\""
   ]
  },
  {
   "cell_type": "markdown",
   "metadata": {},
   "source": [
    "##  Create teams df and first run (ONLY THE 1st TIME)"
   ]
  },
  {
   "cell_type": "markdown",
   "metadata": {},
   "source": [
    "####  Load teams info a df"
   ]
  },
  {
   "cell_type": "code",
   "execution_count": 27,
   "metadata": {},
   "outputs": [
    {
     "data": {
      "text/plain": [
       "69"
      ]
     },
     "execution_count": 27,
     "metadata": {},
     "output_type": "execute_result"
    }
   ],
   "source": [
    "tracker = pd.read_csv(\"teamsInfo.csv\")\n",
    "len(tracker)"
   ]
  },
  {
   "cell_type": "markdown",
   "metadata": {},
   "source": [
    "##  Load from csv to a df and keepTally(df)\n",
    "- tracker (\"videoLikesTracker.csv\") will get a new column added with the latest likes count\n",
    "- *NOTE skick this step on the 1st Run (data loaded from teamsInfo.csv)"
   ]
  },
  {
   "cell_type": "code",
   "execution_count": 31,
   "metadata": {
    "scrolled": true
   },
   "outputs": [],
   "source": [
    "tracker = pd.read_csv(\"videoLikesTracker.csv\")"
   ]
  },
  {
   "cell_type": "markdown",
   "metadata": {},
   "source": [
    "## Go get me the likes for all teams!"
   ]
  },
  {
   "cell_type": "code",
   "execution_count": 28,
   "metadata": {},
   "outputs": [
    {
     "name": "stdout",
     "output_type": "stream",
     "text": [
      "New field:  18-05-16.10:05\n",
      "Loading :  https://www.youtube.com/watch?v=hEQAMeaYCr8\n",
      "# Extracting likes ... \n",
      "# likes found :  365\n",
      "Loading :  https://www.youtube.com/watch?v=NcZZgCa809U\n",
      "# Extracting likes ... \n",
      "# likes found :  10,452\n",
      "Loading :  https://www.youtube.com/watch?v=upOd_bXhFsM\n",
      "# Extracting likes ... \n",
      "# likes found :  6\n",
      "Loading :  https://www.youtube.com/watch?v=pJN8cdny2kE\n",
      "# Extracting likes ... \n",
      "# likes found :  80\n",
      "Loading :  https://www.youtube.com/watch?v=65X7dlDjB3s\n",
      "# Extracting likes ... \n",
      "# likes found :  1,069\n",
      "Loading :  https://www.youtube.com/watch?v=0sMFoD7RbD4\n",
      "# Extracting likes ... \n",
      "# likes found :  91\n",
      "Loading :  https://www.youtube.com/watch?v=_aizBkuaXLM\n",
      "# Extracting likes ... \n",
      "# likes found :  4,989\n",
      "Loading :  https://www.youtube.com/watch?v=IHJxo53wNvo\n",
      "# Extracting likes ... \n",
      "# likes found :  13,308\n",
      "Loading :  https://www.youtube.com/watch?v=fJJneJJgzwo\n",
      "# Extracting likes ... \n",
      "# likes found :  10,106\n",
      "Loading :  https://www.youtube.com/watch?v=yMqCph_hwnM\n",
      "# Extracting likes ... \n",
      "# likes found :  52\n",
      "Loading :  https://www.youtube.com/watch?v=3kJvpq8pcsY\n",
      "# Extracting likes ... \n",
      "# likes found :  12,748\n",
      "Loading :  https://www.youtube.com/watch?v=WuYEgOpRlPU\n",
      "# Extracting likes ... \n",
      "# likes found :  10,978\n",
      "Loading :  https://www.youtube.com/watch?v=cyL6khy7ipI\n",
      "# Extracting likes ... \n",
      "# likes found :  8,033\n",
      "Loading :  https://www.youtube.com/watch?v=VSCKxgtXMB8\n",
      "# Extracting likes ... \n",
      "# likes found :  264\n",
      "Loading :  https://www.youtube.com/watch?v=3t8GspC8IDU\n",
      "# Extracting likes ... \n",
      "# likes found :  49\n",
      "Loading :  https://www.youtube.com/watch?v=o0Sj03Krq44\n",
      "# Extracting likes ... \n",
      "# likes found :  0\n",
      "Loading :  https://www.youtube.com/watch?v=ir6VlVnG8SI\n",
      "# Extracting likes ... \n",
      "# likes found :  21\n",
      "Loading :  https://www.youtube.com/watch?v=TSo13vorP8g\n",
      "# Extracting likes ... \n",
      "# likes found :  2,319\n",
      "Loading :  https://www.youtube.com/watch?v=drHTuiyrm10\n",
      "# Extracting likes ... \n",
      "# likes found :  4,000\n",
      "Loading :  https://www.youtube.com/watch?v=ZUEhi2LsFCs\n",
      "# Extracting likes ... \n",
      "# likes found :  10\n",
      "Loading :  https://www.youtube.com/watch?v=itZ4blsBIDU\n",
      "# Extracting likes ... \n",
      "# likes found :  12,682\n",
      "Loading :  https://www.youtube.com/watch?v=Zm5Q2-LKTP0\n",
      "# Extracting likes ... \n",
      "# likes found :  2\n",
      "Loading :  https://www.youtube.com/watch?v=WBXmpAsQcAo\n",
      "# Extracting likes ... \n",
      "# likes found :  44\n",
      "Loading :  https://www.youtube.com/watch?v=ZFouTSVoeAQ\n",
      "# Extracting likes ... \n",
      "# likes found :  251\n",
      "Loading :  https://www.youtube.com/watch?v=39240ymGGpc\n",
      "# Extracting likes ... \n",
      "# likes found :  4,385\n",
      "Loading :  https://www.youtube.com/watch?v=Wc16hqBz8jY\n",
      "# Extracting likes ... \n",
      "# likes found :  1\n",
      "Loading :  https://www.youtube.com/watch?v=zDcbONtnpcA\n",
      "# Extracting likes ... \n",
      "# likes found :  10,976\n",
      "Loading :  https://www.youtube.com/watch?v=VyIJ1_PZSyk\n",
      "# Extracting likes ... \n",
      "# likes found :  34\n",
      "Loading :  https://www.youtube.com/watch?v=7FaHxxnmiZs\n",
      "# Extracting likes ... \n",
      "# likes found :  13,224\n",
      "Loading :  https://www.youtube.com/watch?v=AmyVmUzp5WQ\n",
      "# Extracting likes ... \n",
      "# likes found :  16,172\n",
      "Loading :  https://www.youtube.com/watch?v=nAqBqpMRK7E\n",
      "# Extracting likes ... \n",
      "# likes found :  58\n",
      "Loading :  https://www.youtube.com/watch?v=QMXYG9WqS6o\n",
      "# Extracting likes ... \n",
      "# likes found :  1,780\n",
      "Loading :  https://www.youtube.com/watch?v=HwrKE060V0E\n",
      "# Extracting likes ... \n",
      "# likes found :  26\n",
      "Loading :  https://www.youtube.com/watch?v=SN00dKIwLrY\n",
      "# Extracting likes ... \n",
      "# likes found :  666\n",
      "Loading :  https://www.youtube.com/watch?v=yhUfoRapr2w\n",
      "# Extracting likes ... \n",
      "# likes found :  3,391\n",
      "Loading :  https://www.youtube.com/watch?v=5Uj4S-3h6b8\n",
      "# Extracting likes ... \n",
      "# likes found :  \n",
      "Loading :  https://www.youtube.com/watch?v=Zxhj9Z-PnOw\n",
      "# Extracting likes ... \n",
      "# likes found :  13,267\n",
      "Loading :  https://www.youtube.com/watch?v=1M_JPKkHhK4\n",
      "# Extracting likes ... \n",
      "# likes found :  228\n",
      "Loading :  https://www.youtube.com/watch?v=2KG78PGE1yk\n",
      "# Extracting likes ... \n",
      "# likes found :  \n",
      "Loading :  https://www.youtube.com/watch?v=k1puM-kVqHY\n",
      "# Extracting likes ... \n",
      "# likes found :  2,861\n",
      "Loading :  https://www.youtube.com/watch?v=KOuYLSfK9Ns\n",
      "# Extracting likes ... \n",
      "# likes found :  5,231\n",
      "Loading :  https://www.youtube.com/watch?v=7nO_lqnsKYE\n",
      "# Extracting likes ... \n",
      "# likes found :  1,613\n",
      "Loading :  https://www.youtube.com/watch?v=whovbY_pUsc\n",
      "# Extracting likes ... \n",
      "# likes found :  90\n",
      "Loading :  https://www.youtube.com/watch?v=_tsRYjHX0Oc\n",
      "# Extracting likes ... \n",
      "# likes found :  13\n",
      "Loading :  https://www.youtube.com/watch?v=ZR1DdBL8QDE\n",
      "# Extracting likes ... \n",
      "# likes found :  1,582\n",
      "Loading :  https://www.youtube.com/watch?v=NnsyqVCWWWo\n",
      "# Extracting likes ... \n",
      "# likes found :  1\n",
      "Loading :  https://www.youtube.com/watch?v=B0kANCCmT7A\n",
      "# Extracting likes ... \n",
      "# likes found :  5\n",
      "Loading :  https://www.youtube.com/watch?v=qcLl89O384k\n",
      "# Extracting likes ... \n",
      "# likes found :  \n",
      "Loading :  https://www.youtube.com/watch?v=vts3kGf0Hmg\n",
      "# Extracting likes ... \n",
      "# likes found :  2,160\n",
      "Loading :  https://www.youtube.com/watch?v=E-VgWUjiOZc\n",
      "# Extracting likes ... \n",
      "# likes found :  3\n",
      "Loading :  https://www.youtube.com/watch?v=FXeO9ZomKps\n",
      "# Extracting likes ... \n",
      "# likes found :  4\n",
      "Loading :  https://www.youtube.com/watch?v=GPNkxGlr--Q\n",
      "# Extracting likes ... \n",
      "# likes found :  1\n",
      "Loading :  https://www.youtube.com/watch?v=nmZZzxQsIwU\n",
      "# Extracting likes ... \n",
      "# likes found :  10\n",
      "Loading :  https://www.youtube.com/watch?v=8tXweZ9Y1qI\n",
      "# Extracting likes ... \n",
      "# likes found :  1,815\n",
      "Loading :  https://www.youtube.com/watch?v=-Mtxx3IEZLc\n",
      "# Extracting likes ... \n",
      "# likes found :  11,240\n",
      "Loading :  https://www.youtube.com/watch?v=HcjWpD2Eteg\n",
      "# Extracting likes ... \n",
      "# likes found :  112\n",
      "Loading :  https://www.youtube.com/watch?v=uxCUWwXXbTU\n",
      "# Extracting likes ... \n",
      "# likes found :  2\n",
      "Loading :  https://www.youtube.com/watch?v=rKF-XljuQ60\n",
      "# Extracting likes ... \n",
      "# likes found :  37\n",
      "Loading :  https://www.youtube.com/watch?v=enTh04mX5FQ\n",
      "# Extracting likes ... \n",
      "# likes found :  12,610\n",
      "Loading :  https://www.youtube.com/watch?v=IVIGjQkl0NQ\n",
      "# Extracting likes ... \n",
      "# likes found :  1,082\n",
      "Loading :  https://www.youtube.com/watch?v=S17udesnDq8\n",
      "# Extracting likes ... \n",
      "# likes found :  1,150\n",
      "Loading :  https://www.youtube.com/watch?v=sdtqOXH5svg\n",
      "# Extracting likes ... \n",
      "# likes found :  428\n",
      "Loading :  https://www.youtube.com/watch?v=rvDr9zdsltY\n",
      "# Extracting likes ... \n",
      "# likes found :  1,380\n",
      "Loading :  https://www.youtube.com/watch?v=5-a46h9qamc\n",
      "# Extracting likes ... \n",
      "# likes found :  1,523\n",
      "Loading :  https://www.youtube.com/watch?v=AXijIqYwuoU\n",
      "# Extracting likes ... \n",
      "# likes found :  1\n",
      "Loading :  https://www.youtube.com/watch?v=pAYtK087BHw\n",
      "# Extracting likes ... \n",
      "# likes found :  1,542\n",
      "Loading :  https://www.youtube.com/watch?v=2xBDxqopZDY\n",
      "# Extracting likes ... \n",
      "# likes found :  0\n",
      "Loading :  https://www.youtube.com/watch?v=p0QRzNIKgBs\n",
      "# Extracting likes ... \n",
      "# likes found :  3,679\n",
      "Loading :  https://www.youtube.com/watch?v=WxR6d83-emQ\n",
      "# Extracting likes ... \n",
      "# likes found :  1,948\n",
      "Getting likes: complete\n",
      "Save to csve fie 'videoLikesTracker72.csv'\n"
     ]
    },
    {
     "data": {
      "text/plain": [
       "'Tracker updated!'"
      ]
     },
     "execution_count": 28,
     "metadata": {},
     "output_type": "execute_result"
    }
   ],
   "source": [
    "keepTally(tracker)"
   ]
  },
  {
   "cell_type": "code",
   "execution_count": 51,
   "metadata": {},
   "outputs": [
    {
     "data": {
      "text/html": [
       "<div>\n",
       "<style scoped>\n",
       "    .dataframe tbody tr th:only-of-type {\n",
       "        vertical-align: middle;\n",
       "    }\n",
       "\n",
       "    .dataframe tbody tr th {\n",
       "        vertical-align: top;\n",
       "    }\n",
       "\n",
       "    .dataframe thead th {\n",
       "        text-align: right;\n",
       "    }\n",
       "</style>\n",
       "<table border=\"1\" class=\"dataframe\">\n",
       "  <thead>\n",
       "    <tr style=\"text-align: right;\">\n",
       "      <th></th>\n",
       "      <th>team</th>\n",
       "      <th>likes</th>\n",
       "    </tr>\n",
       "  </thead>\n",
       "  <tbody>\n",
       "    <tr>\n",
       "      <th>0</th>\n",
       "      <td>YouRoot.io</td>\n",
       "      <td>16172.0</td>\n",
       "    </tr>\n",
       "    <tr>\n",
       "      <th>1</th>\n",
       "      <td>Nooberly</td>\n",
       "      <td>13308.0</td>\n",
       "    </tr>\n",
       "    <tr>\n",
       "      <th>2</th>\n",
       "      <td>Loan-Block</td>\n",
       "      <td>13267.0</td>\n",
       "    </tr>\n",
       "    <tr>\n",
       "      <th>3</th>\n",
       "      <td>Smartz</td>\n",
       "      <td>13224.0</td>\n",
       "    </tr>\n",
       "    <tr>\n",
       "      <th>4</th>\n",
       "      <td>Langchain</td>\n",
       "      <td>12748.0</td>\n",
       "    </tr>\n",
       "    <tr>\n",
       "      <th>5</th>\n",
       "      <td>CollectiveHealth</td>\n",
       "      <td>12682.0</td>\n",
       "    </tr>\n",
       "    <tr>\n",
       "      <th>6</th>\n",
       "      <td>Armada</td>\n",
       "      <td>12610.0</td>\n",
       "    </tr>\n",
       "    <tr>\n",
       "      <th>7</th>\n",
       "      <td>DAO Axis</td>\n",
       "      <td>11240.0</td>\n",
       "    </tr>\n",
       "    <tr>\n",
       "      <th>8</th>\n",
       "      <td>Cryptonominee</td>\n",
       "      <td>10978.0</td>\n",
       "    </tr>\n",
       "    <tr>\n",
       "      <th>9</th>\n",
       "      <td>Serial Coders</td>\n",
       "      <td>10976.0</td>\n",
       "    </tr>\n",
       "    <tr>\n",
       "      <th>10</th>\n",
       "      <td>The AGE Project</td>\n",
       "      <td>10452.0</td>\n",
       "    </tr>\n",
       "    <tr>\n",
       "      <th>11</th>\n",
       "      <td>Team Decentralize</td>\n",
       "      <td>10106.0</td>\n",
       "    </tr>\n",
       "    <tr>\n",
       "      <th>12</th>\n",
       "      <td>Undra</td>\n",
       "      <td>8033.0</td>\n",
       "    </tr>\n",
       "    <tr>\n",
       "      <th>13</th>\n",
       "      <td>DinoSpace</td>\n",
       "      <td>5231.0</td>\n",
       "    </tr>\n",
       "    <tr>\n",
       "      <th>14</th>\n",
       "      <td>CADChain</td>\n",
       "      <td>4989.0</td>\n",
       "    </tr>\n",
       "  </tbody>\n",
       "</table>\n",
       "</div>"
      ],
      "text/plain": [
       "                 team    likes\n",
       "0          YouRoot.io  16172.0\n",
       "1            Nooberly  13308.0\n",
       "2          Loan-Block  13267.0\n",
       "3              Smartz  13224.0\n",
       "4           Langchain  12748.0\n",
       "5    CollectiveHealth  12682.0\n",
       "6              Armada  12610.0\n",
       "7            DAO Axis  11240.0\n",
       "8       Cryptonominee  10978.0\n",
       "9       Serial Coders  10976.0\n",
       "10    The AGE Project  10452.0\n",
       "11  Team Decentralize  10106.0\n",
       "12              Undra   8033.0\n",
       "13          DinoSpace   5231.0\n",
       "14           CADChain   4989.0"
      ]
     },
     "execution_count": 51,
     "metadata": {},
     "output_type": "execute_result"
    }
   ],
   "source": [
    "timeHead = 'likes'\n",
    "tracker.columns = ['team','url',timeHead]\n",
    "tracker[['team', timeHead]].head(15)"
   ]
  },
  {
   "cell_type": "code",
   "execution_count": 33,
   "metadata": {},
   "outputs": [
    {
     "ename": "NameError",
     "evalue": "name 'fieldName' is not defined",
     "output_type": "error",
     "traceback": [
      "\u001b[0;31m--------------------------------------------------------------------------\u001b[0m",
      "\u001b[0;31mNameError\u001b[0m                                Traceback (most recent call last)",
      "\u001b[0;32m<ipython-input-33-a888e08d768a>\u001b[0m in \u001b[0;36m<module>\u001b[0;34m()\u001b[0m\n\u001b[0;32m----> 1\u001b[0;31m \u001b[0mprint\u001b[0m\u001b[0;34m(\u001b[0m\u001b[0mfieldName\u001b[0m\u001b[0;34m)\u001b[0m\u001b[0;34m\u001b[0m\u001b[0m\n\u001b[0m",
      "\u001b[0;31mNameError\u001b[0m: name 'fieldName' is not defined"
     ]
    }
   ],
   "source": [
    "print(fieldName)"
   ]
  },
  {
   "cell_type": "code",
   "execution_count": 48,
   "metadata": {},
   "outputs": [
    {
     "data": {
      "text/html": [
       "<div>\n",
       "<style scoped>\n",
       "    .dataframe tbody tr th:only-of-type {\n",
       "        vertical-align: middle;\n",
       "    }\n",
       "\n",
       "    .dataframe tbody tr th {\n",
       "        vertical-align: top;\n",
       "    }\n",
       "\n",
       "    .dataframe thead th {\n",
       "        text-align: right;\n",
       "    }\n",
       "</style>\n",
       "<table border=\"1\" class=\"dataframe\">\n",
       "  <thead>\n",
       "    <tr style=\"text-align: right;\">\n",
       "      <th></th>\n",
       "      <th>team</th>\n",
       "      <th>10:20AM-EST</th>\n",
       "    </tr>\n",
       "  </thead>\n",
       "  <tbody>\n",
       "    <tr>\n",
       "      <th>0</th>\n",
       "      <td>YouRoot.io</td>\n",
       "      <td>16172.0</td>\n",
       "    </tr>\n",
       "    <tr>\n",
       "      <th>1</th>\n",
       "      <td>Nooberly</td>\n",
       "      <td>13308.0</td>\n",
       "    </tr>\n",
       "    <tr>\n",
       "      <th>2</th>\n",
       "      <td>Loan-Block</td>\n",
       "      <td>13267.0</td>\n",
       "    </tr>\n",
       "    <tr>\n",
       "      <th>3</th>\n",
       "      <td>Smartz</td>\n",
       "      <td>13224.0</td>\n",
       "    </tr>\n",
       "    <tr>\n",
       "      <th>4</th>\n",
       "      <td>Langchain</td>\n",
       "      <td>12748.0</td>\n",
       "    </tr>\n",
       "    <tr>\n",
       "      <th>5</th>\n",
       "      <td>CollectiveHealth</td>\n",
       "      <td>12682.0</td>\n",
       "    </tr>\n",
       "    <tr>\n",
       "      <th>6</th>\n",
       "      <td>Armada</td>\n",
       "      <td>12610.0</td>\n",
       "    </tr>\n",
       "    <tr>\n",
       "      <th>7</th>\n",
       "      <td>DAO Axis</td>\n",
       "      <td>11240.0</td>\n",
       "    </tr>\n",
       "    <tr>\n",
       "      <th>8</th>\n",
       "      <td>Cryptonominee</td>\n",
       "      <td>10978.0</td>\n",
       "    </tr>\n",
       "    <tr>\n",
       "      <th>9</th>\n",
       "      <td>Serial Coders</td>\n",
       "      <td>10976.0</td>\n",
       "    </tr>\n",
       "    <tr>\n",
       "      <th>10</th>\n",
       "      <td>The AGE Project</td>\n",
       "      <td>10452.0</td>\n",
       "    </tr>\n",
       "    <tr>\n",
       "      <th>11</th>\n",
       "      <td>Team Decentralize</td>\n",
       "      <td>10106.0</td>\n",
       "    </tr>\n",
       "    <tr>\n",
       "      <th>12</th>\n",
       "      <td>Undra</td>\n",
       "      <td>8033.0</td>\n",
       "    </tr>\n",
       "    <tr>\n",
       "      <th>13</th>\n",
       "      <td>DinoSpace</td>\n",
       "      <td>5231.0</td>\n",
       "    </tr>\n",
       "    <tr>\n",
       "      <th>14</th>\n",
       "      <td>CADChain</td>\n",
       "      <td>4989.0</td>\n",
       "    </tr>\n",
       "  </tbody>\n",
       "</table>\n",
       "</div>"
      ],
      "text/plain": [
       "                 team  10:20AM-EST\n",
       "0          YouRoot.io      16172.0\n",
       "1            Nooberly      13308.0\n",
       "2          Loan-Block      13267.0\n",
       "3              Smartz      13224.0\n",
       "4           Langchain      12748.0\n",
       "5    CollectiveHealth      12682.0\n",
       "6              Armada      12610.0\n",
       "7            DAO Axis      11240.0\n",
       "8       Cryptonominee      10978.0\n",
       "9       Serial Coders      10976.0\n",
       "10    The AGE Project      10452.0\n",
       "11  Team Decentralize      10106.0\n",
       "12              Undra       8033.0\n",
       "13          DinoSpace       5231.0\n",
       "14           CADChain       4989.0"
      ]
     },
     "execution_count": 48,
     "metadata": {},
     "output_type": "execute_result"
    }
   ],
   "source": [
    "tracker[['team','10:20AM-EST']].head(15)"
   ]
  },
  {
   "cell_type": "code",
   "execution_count": null,
   "metadata": {},
   "outputs": [],
   "source": []
  },
  {
   "cell_type": "markdown",
   "metadata": {},
   "source": [
    "#  ---------------- OLD STUFFF --------------------------"
   ]
  },
  {
   "cell_type": "code",
   "execution_count": null,
   "metadata": {},
   "outputs": [],
   "source": [
    "def keepTally(teams):\n",
    "    output = {}\n",
    "    for tm in teams:\n",
    "        # getLikes for team (tm) and add result to new key \"likes\"\n",
    "        output[tm] = getLikes(teams[tm]['url'])\n",
    "#         print(tm, output[tm])\n",
    "    return output"
   ]
  },
  {
   "cell_type": "markdown",
   "metadata": {},
   "source": [
    "## OLD approach: team Dictionary"
   ]
  },
  {
   "cell_type": "code",
   "execution_count": null,
   "metadata": {},
   "outputs": [],
   "source": [
    "teamsDic = {\n",
    "    \"TelEOS\": {\"url\": \"https://www.youtube.com/watch?v=TSo13vorP8g\"},\n",
    "    \"YouRoot.io\": {\"url\": \"https://www.youtube.com/watch?v=fJJneJJgzwo\"},\n",
    "    \"Team Decentralize\": {\"url\": \"https://www.youtube.com/watch?v=-Mtxx3IEZLc\"},\n",
    "    \"CADChain\": {\"url\": \"https://www.youtube.com/watch?v=_aizBkuaXLM\"},\n",
    "    \"Way\": {\"url\": \"https://www.youtube.com/watch?v=65X7dlDjB3s\"},\n",
    "    \"Armada\": {\"url\": \"https://www.youtube.com/watch?v=enTh04mX5FQ\"},\n",
    "    \"CollectiveHealth\": {\"url\": \"https://www.youtube.com/watch?v=itZ4blsBIDU\"},\n",
    "    \"DAO Axis\": {\"url\": \"https://www.youtube.com/watch?v=-Mtxx3IEZLc\"},\n",
    "    \"This Coin Rocks\": {\"url\": \"https://www.youtube.com/watch?v=ZR1DdBL8QDE\"},\n",
    "    \"EOS-AGE-Project-DNA\": {\"url\": \"https://www.youtube.com/watch?v=ZFouTSVoeAQ\"},\n",
    "    \"FinCrowds\": {\"url\": \"https://youtu.be/IVIGjQkl0NQ\"},\n",
    "    \"VIM\": {\"url\": \"https://www.youtube.com/watch?v=enTh04mX5FQ\"},\n",
    "    \"Undra.io\": {\"url\": \"https://www.youtube.com/watch?v=cyL6khy7ipI\"},\n",
    "    \"codum\": {\"url\": \"https://www.youtube.com/watch?v=sdtqOXH5svg\"},\n",
    "    \"iRespo.com\": {\"url\": \"https://www.youtube.com/watch?v=NcZZgCa809U\"},\n",
    "    \"FairAccess\": {\"url\": \"https://www.youtube.com/watch?v=1M_JPKkHhK4\"},\n",
    "    \"Delegator\": {\"url\": \"https://www.youtube.com/watch?v=cyL6khy7ipI\"},\n",
    "    \"DelegationOne\": {\"url\": \"https://www.youtube.com/watch?v=8tXweZ9Y1qI\"},\n",
    "    \"Magni\": {\"url\": \"https://www.youtube.com/watch?v=HcjWpD2Eteg\"},\n",
    "    \"Query:\": {\"url\": \"https://www.youtube.com/watch?v=HcjWpD2Eteg\"},\n",
    "    \"Binary\": {\"url\": \"https://www.youtube.com/watch?v=itZ4blsBIDU\"},\n",
    "    \"SE5 Focus\": {\"url\": \"https://www.youtube.com/watch?v=nAqBqpMRK7E\"},\n",
    "    \"Ownit\": {\"url\": \"https://www.youtube.com/watch?v=ir6VlVnG8SI\"},\n",
    "    \"LoRaChain\": {\"url\": \"https://www.youtube.com/watch?v=p0QRzNIKgBs\"},\n",
    "    \"Screen Time\": {\"url\": \"https://www.youtube.com/watch?v=ZUEhi2LsFCs\"},\n",
    "    \"EOSomnia\": {\"url\": \"https://www.youtube.com/watch?v=8tXweZ9Y1qI\"},\n",
    "    \"Streamer.IO\": {\"url\": \"https://www.youtube.com/watch?v=nmZZzxQsIwU\"},\n",
    "    #\"AnyChain\": {\"url\": \"youku\"},\n",
    "    \"payment.one\": {\"url\": \"https://www.youtube.com/watch?v=2KG78PGE1yk\"}\n",
    "}"
   ]
  },
  {
   "cell_type": "markdown",
   "metadata": {},
   "source": [
    "# Run the tally"
   ]
  },
  {
   "cell_type": "code",
   "execution_count": null,
   "metadata": {
    "scrolled": true
   },
   "outputs": [],
   "source": [
    "timeRun = dt.datetime.now().strftime(\"%Hhr%M\")\n",
    "output = keepTally(teamsDic)"
   ]
  },
  {
   "cell_type": "markdown",
   "metadata": {},
   "source": [
    "\n",
    "###  Create filename"
   ]
  },
  {
   "cell_type": "code",
   "execution_count": null,
   "metadata": {},
   "outputs": [],
   "source": [
    "outputFileName = 'Run_'+timeRun+'.txt'\n",
    "print(outputFileName)"
   ]
  },
  {
   "cell_type": "markdown",
   "metadata": {},
   "source": [
    "### save to a file"
   ]
  },
  {
   "cell_type": "code",
   "execution_count": null,
   "metadata": {},
   "outputs": [],
   "source": [
    "with open(outputFileName, \"w\") as text_file:\n",
    "    text_file.write(str(output))"
   ]
  },
  {
   "cell_type": "code",
   "execution_count": null,
   "metadata": {},
   "outputs": [],
   "source": [
    "import pandas as pd"
   ]
  },
  {
   "cell_type": "markdown",
   "metadata": {},
   "source": [
    "###  Create list"
   ]
  },
  {
   "cell_type": "code",
   "execution_count": null,
   "metadata": {},
   "outputs": [],
   "source": [
    "outls = [ [i,output[i]] for i in output]\n",
    "outls"
   ]
  },
  {
   "cell_type": "markdown",
   "metadata": {},
   "source": [
    "#### load to df?"
   ]
  },
  {
   "cell_type": "code",
   "execution_count": null,
   "metadata": {
    "scrolled": true
   },
   "outputs": [],
   "source": [
    "tally = pd.DataFrame(outls)\n",
    "# tally"
   ]
  },
  {
   "cell_type": "markdown",
   "metadata": {},
   "source": [
    "###  Clean Data"
   ]
  },
  {
   "cell_type": "code",
   "execution_count": null,
   "metadata": {
    "scrolled": true
   },
   "outputs": [],
   "source": [
    "tally.columns = ['teams', 'counts']\n",
    "# tally = tally.set_index('teams')\n",
    "#remove comma from counts\n",
    "tally['counts'] = tally['counts'].str.replace(',', '')\n",
    "tally"
   ]
  },
  {
   "cell_type": "code",
   "execution_count": null,
   "metadata": {},
   "outputs": [],
   "source": [
    "tally['counts'] = pd.to_numeric(tally['counts'], errors='coerce')"
   ]
  },
  {
   "cell_type": "code",
   "execution_count": null,
   "metadata": {
    "scrolled": true
   },
   "outputs": [],
   "source": [
    "tally.sort_values(by='counts', ascending=False)"
   ]
  },
  {
   "cell_type": "code",
   "execution_count": null,
   "metadata": {},
   "outputs": [],
   "source": []
  },
  {
   "cell_type": "markdown",
   "metadata": {},
   "source": [
    "# ---- Load old files ----"
   ]
  },
  {
   "cell_type": "markdown",
   "metadata": {},
   "source": [
    "####  1) Open file"
   ]
  },
  {
   "cell_type": "code",
   "execution_count": null,
   "metadata": {},
   "outputs": [],
   "source": [
    "with open('Run_03hr55.txt') as f:\n",
    "     prevRun = f.read()"
   ]
  },
  {
   "cell_type": "markdown",
   "metadata": {},
   "source": [
    "###  2) Transform to List and 'counts' to int"
   ]
  },
  {
   "cell_type": "markdown",
   "metadata": {},
   "source": [
    "####  Fix quotation and save as json?"
   ]
  },
  {
   "cell_type": "code",
   "execution_count": null,
   "metadata": {},
   "outputs": [],
   "source": [
    "with open(outputFileName, \"w\") as text_file:\n",
    "    text_file.write(str(output))"
   ]
  },
  {
   "cell_type": "code",
   "execution_count": null,
   "metadata": {},
   "outputs": [],
   "source": [
    "# outls = [ [i,output[i]] for i in output]\n",
    "# outls\n",
    "for i in prevRun:\n",
    "    print(i)"
   ]
  },
  {
   "cell_type": "code",
   "execution_count": null,
   "metadata": {},
   "outputs": [],
   "source": []
  },
  {
   "cell_type": "code",
   "execution_count": null,
   "metadata": {},
   "outputs": [],
   "source": [
    "fixed = prevRun.replace(\"'\", '\"')\n",
    "fixed"
   ]
  },
  {
   "cell_type": "code",
   "execution_count": null,
   "metadata": {},
   "outputs": [],
   "source": [
    "import json"
   ]
  },
  {
   "cell_type": "code",
   "execution_count": null,
   "metadata": {},
   "outputs": [],
   "source": [
    "j = json.dumps(prevRun)\n",
    "jload = json.loads(j)"
   ]
  },
  {
   "cell_type": "code",
   "execution_count": null,
   "metadata": {},
   "outputs": [],
   "source": [
    "print(j)"
   ]
  },
  {
   "cell_type": "code",
   "execution_count": null,
   "metadata": {},
   "outputs": [],
   "source": [
    "data = json.load(fixed)"
   ]
  },
  {
   "cell_type": "code",
   "execution_count": null,
   "metadata": {},
   "outputs": [],
   "source": []
  },
  {
   "cell_type": "code",
   "execution_count": null,
   "metadata": {},
   "outputs": [],
   "source": [
    "# d = {}\n",
    "# with open('Run_03hr55.txt') as f:\n",
    "#     for line in f:\n",
    "#        (key, val) = line.split()\n",
    "#        d[int(key)] = val"
   ]
  },
  {
   "cell_type": "code",
   "execution_count": null,
   "metadata": {},
   "outputs": [],
   "source": [
    "\n",
    "from pprint import pprint\n",
    "\n",
    "with open('Run_03hr55.json') as f:\n",
    "    data = json.load(f)\n",
    "\n",
    "pprint(data)"
   ]
  }
 ],
 "metadata": {
  "kernelspec": {
   "display_name": "Python 3",
   "language": "python",
   "name": "python3"
  },
  "language_info": {
   "codemirror_mode": {
    "name": "ipython",
    "version": 3
   },
   "file_extension": ".py",
   "mimetype": "text/x-python",
   "name": "python",
   "nbconvert_exporter": "python",
   "pygments_lexer": "ipython3",
   "version": "3.6.3"
  }
 },
 "nbformat": 4,
 "nbformat_minor": 2
}
